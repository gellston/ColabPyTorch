{
  "nbformat": 4,
  "nbformat_minor": 0,
  "metadata": {
    "colab": {
      "name": "Untitled0.ipynb",
      "provenance": [],
      "authorship_tag": "ABX9TyPxeQOVK01He3bCOfN+c0tk",
      "include_colab_link": true
    },
    "kernelspec": {
      "name": "python3",
      "display_name": "Python 3"
    },
    "language_info": {
      "name": "python"
    }
  },
  "cells": [
    {
      "cell_type": "markdown",
      "metadata": {
        "id": "view-in-github",
        "colab_type": "text"
      },
      "source": [
        "<a href=\"https://colab.research.google.com/github/gellston/ColabPyTorch/blob/main/torch_basicLinearRegression_train.ipynb\" target=\"_parent\"><img src=\"https://colab.research.google.com/assets/colab-badge.svg\" alt=\"Open In Colab\"/></a>"
      ]
    },
    {
      "cell_type": "code",
      "metadata": {
        "colab": {
          "base_uri": "https://localhost:8080/"
        },
        "id": "UHfg67xfTUMl",
        "outputId": "7662e980-cc4a-4d38-8789-33283c8acbcf"
      },
      "source": [
        "import torch\n",
        "import torch.nn as nn\n",
        "import torch.nn.functional as F\n",
        "\n",
        "\n",
        "\n",
        "\n",
        "model = nn.Linear(1,1)\n",
        "\n",
        "\n",
        "print(list(model.parameters()))\n",
        "\n",
        "x_train = torch.FloatTensor([[1], [2], [3]])\n",
        "y_train = torch.FloatTensor([[2], [4], [6]])\n",
        "\n",
        "\n",
        "optimizer = torch.optim.SGD(model.parameters(), lr=0.01)\n",
        "\n",
        "\n",
        "nb_epochs = 2000\n",
        "for epoch in range(nb_epochs+1):\n",
        "\n",
        "    # H(x) 계산\n",
        "    prediction = model(x_train)\n",
        "\n",
        "    # cost 계산\n",
        "    cost = F.mse_loss(prediction, y_train) # <== 파이토치에서 제공하는 평균 제곱 오차 함수\n",
        "\n",
        "    # cost로 H(x) 개선하는 부분\n",
        "    # gradient를 0으로 초기화\n",
        "    optimizer.zero_grad()\n",
        "    # 비용 함수를 미분하여 gradient 계산\n",
        "    cost.backward() # backward 연산\n",
        "    # W와 b를 업데이트\n",
        "    optimizer.step()\n",
        "\n",
        "    if epoch % 100 == 0:\n",
        "    # 100번마다 로그 출력\n",
        "        print('Epoch {:4d}/{} Cost: {:.6f}'.format(epoch, nb_epochs, cost.item()))\n",
        "\n",
        "\n",
        "new_var =  torch.FloatTensor([[4.0]])\n",
        "# 입력한 값 4에 대해서 예측값 y를 리턴받아서 pred_y에 저장\n",
        "pred_y = model(new_var) # forward 연산\n",
        "# y = 2x 이므로 입력이 4라면 y가 8에 가까운 값이 나와야 제대로 학습이 된 것\n",
        "print(\"훈련 후 입력이 4일 때의 예측값 :\", pred_y)"
      ],
      "execution_count": 1,
      "outputs": [
        {
          "output_type": "stream",
          "name": "stdout",
          "text": [
            "[Parameter containing:\n",
            "tensor([[0.6054]], requires_grad=True), Parameter containing:\n",
            "tensor([0.8233], requires_grad=True)]\n",
            "Epoch    0/2000 Cost: 5.161434\n",
            "Epoch  100/2000 Cost: 0.128464\n",
            "Epoch  200/2000 Cost: 0.079383\n",
            "Epoch  300/2000 Cost: 0.049054\n",
            "Epoch  400/2000 Cost: 0.030312\n",
            "Epoch  500/2000 Cost: 0.018731\n",
            "Epoch  600/2000 Cost: 0.011575\n",
            "Epoch  700/2000 Cost: 0.007152\n",
            "Epoch  800/2000 Cost: 0.004420\n",
            "Epoch  900/2000 Cost: 0.002731\n",
            "Epoch 1000/2000 Cost: 0.001688\n",
            "Epoch 1100/2000 Cost: 0.001043\n",
            "Epoch 1200/2000 Cost: 0.000644\n",
            "Epoch 1300/2000 Cost: 0.000398\n",
            "Epoch 1400/2000 Cost: 0.000246\n",
            "Epoch 1500/2000 Cost: 0.000152\n",
            "Epoch 1600/2000 Cost: 0.000094\n",
            "Epoch 1700/2000 Cost: 0.000058\n",
            "Epoch 1800/2000 Cost: 0.000036\n",
            "Epoch 1900/2000 Cost: 0.000022\n",
            "Epoch 2000/2000 Cost: 0.000014\n",
            "훈련 후 입력이 4일 때의 예측값 : tensor([[7.9926]], grad_fn=<AddmmBackward0>)\n"
          ]
        }
      ]
    }
  ]
}